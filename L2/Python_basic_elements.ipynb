{
  "cells": [
    {
      "cell_type": "markdown",
      "metadata": {
        "id": "view-in-github",
        "colab_type": "text"
      },
      "source": [
        "<a href=\"https://colab.research.google.com/github/jeromemaiquez/geopython_notebooks/blob/master/L2/Python_basic_elements.ipynb\" target=\"_parent\"><img src=\"https://colab.research.google.com/assets/colab-badge.svg\" alt=\"Open In Colab\"/></a>"
      ]
    },
    {
      "cell_type": "markdown",
      "metadata": {
        "id": "DNiNQ-p0sBeK"
      },
      "source": [
        "# Basic elements of Python\n",
        "\n",
        "Finnish university students are encouraged to use the CSC Notebooks platform.<br/>\n",
        "<a href=\" https://notebooks.csc.fi/\"><img alt=\"CSC badge\" src=\"https://img.shields.io/badge/launch-CSC%20notebook-blue.svg\" style=\"vertical-align:text-bottom\"></a>\n",
        "\n",
        "Others can follow the lesson and fill in their student notebooks using Binder.<br/>\n",
        "<a href=\"https://mybinder.org/v2/gh/geo-python/notebooks/master?urlpath=lab/tree/L2/Python-basic-elements.ipynb\"><img alt=\"Binder badge\" src=\"https://img.shields.io/badge/launch-binder-red.svg\" style=\"vertical-align:text-bottom\"></a>\n",
        "\n",
        "In this lesson we will learn how data can be stored in Python lists, some useful ways of using and modifying Python lists, and how to make different data types work together in Python."
      ]
    },
    {
      "cell_type": "markdown",
      "metadata": {
        "tags": [],
        "id": "sf8uKJxbsBeQ"
      },
      "source": [
        "## Sources\n",
        "\n",
        "This lesson is inspired by the [Programming with Python lessons](https://swcarpentry.github.io/python-novice-inflammation/) from the [Software Carpentry organization](https://swcarpentry.github.io/)."
      ]
    },
    {
      "cell_type": "markdown",
      "metadata": {
        "id": "dAvrV8PSsBeR"
      },
      "source": [
        "**Note**: There are some Python cells in this notebook that *already* contain code. You just need to press <kbd>Shift</kbd> + <kbd>Enter</kbd> to run those cells. We're trying to avoid having you race to keep up typing in basic things for the lesson so you can focus on the main points :D."
      ]
    },
    {
      "cell_type": "markdown",
      "metadata": {
        "id": "nYj_9K_3sBeS"
      },
      "source": [
        "## Lists and indices\n",
        "\n",
        "We saw a bit about variables and their values in the lesson last week, and we continue today with some variables related to [Finnish Meteorological Institute (FMI) observation stations](http://en.ilmatieteenlaitos.fi/observation-stations) in the Helsinki area. Rather than having individual variables for each of those stations as we have previously, we can store many related values in a *collection*. The simplest type of collection in Python is a {term}`list (lista)`."
      ]
    },
    {
      "cell_type": "markdown",
      "metadata": {
        "id": "hcmWKn1MsBeT"
      },
      "source": [
        "### Creating a list\n",
        "\n",
        "Let’s first create a list of selected `station_name` values and print it to the screen."
      ]
    },
    {
      "cell_type": "code",
      "execution_count": 1,
      "metadata": {
        "id": "hGxvQdTusBeU"
      },
      "outputs": [],
      "source": [
        "station_names = [\n",
        "    \"Helsinki Harmaja\",\n",
        "    \"Helsinki Kaisaniemi\",\n",
        "    \"Helsinki Kaivopuisto\",\n",
        "    \"Helsinki Kumpula\",\n",
        "]"
      ]
    },
    {
      "cell_type": "code",
      "execution_count": 2,
      "metadata": {
        "id": "xy72FRllsBeW",
        "outputId": "ee994980-f704-4dcc-a830-464efc2fa26c",
        "colab": {
          "base_uri": "https://localhost:8080/"
        }
      },
      "outputs": [
        {
          "output_type": "stream",
          "name": "stdout",
          "text": [
            "['Helsinki Harmaja', 'Helsinki Kaisaniemi', 'Helsinki Kaivopuisto', 'Helsinki Kumpula']\n"
          ]
        }
      ],
      "source": [
        "print(station_names)"
      ]
    },
    {
      "cell_type": "markdown",
      "metadata": {
        "id": "h1jK9wbfsBeW"
      },
      "source": [
        "We can also check the type of the `station_names` list using the `type()` function."
      ]
    },
    {
      "cell_type": "code",
      "execution_count": 3,
      "metadata": {
        "id": "MI6WnSEpsBeX",
        "outputId": "1273c4b4-240b-45cb-a687-7c8ea4ae4689",
        "colab": {
          "base_uri": "https://localhost:8080/"
        }
      },
      "outputs": [
        {
          "output_type": "execute_result",
          "data": {
            "text/plain": [
              "list"
            ]
          },
          "metadata": {},
          "execution_count": 3
        }
      ],
      "source": [
        "type(station_names)"
      ]
    },
    {
      "cell_type": "markdown",
      "metadata": {
        "id": "srs7nXpSsBeX"
      },
      "source": [
        "Here we have a list of 4 `station_name` values in a list called `station_names`. As you can see, the `type()` function recognizes this as a list. Lists can be created using the square brackets `[` and `]`, with commas separating the values in the list."
      ]
    },
    {
      "cell_type": "markdown",
      "metadata": {
        "id": "STYXxkK2sBeY"
      },
      "source": [
        "### Index values\n",
        "\n",
        "To access an individual value in the list we need to use an {term}`index (taulukko)` value. An index value is a number that refers to a given position in the list. Let’s check out the first value in our list as an example by printing out `station_names[1]`:"
      ]
    },
    {
      "cell_type": "code",
      "execution_count": 4,
      "metadata": {
        "id": "vxhAhwm6sBeZ",
        "outputId": "e91d5a25-18d9-495f-b38a-8eb43bb22e46",
        "colab": {
          "base_uri": "https://localhost:8080/"
        }
      },
      "outputs": [
        {
          "output_type": "stream",
          "name": "stdout",
          "text": [
            "Helsinki Kaisaniemi\n"
          ]
        }
      ],
      "source": [
        "print(station_names[1])"
      ]
    },
    {
      "cell_type": "markdown",
      "metadata": {
        "id": "zzfK_jgBsBeZ"
      },
      "source": [
        "Wait, what? This is the second value in the list we’ve created, what is wrong? As it turns out, Python (and many other programming languages) start values stored in collections with the index value `0`. Thus, to get the value for the first item in the list, we must use index `0`. Let's print out the value at index `0` of `station_names` below."
      ]
    },
    {
      "cell_type": "code",
      "execution_count": 5,
      "metadata": {
        "id": "dNkFa1ofsBea",
        "outputId": "74a57020-0702-47a4-942e-7df55fa10573",
        "colab": {
          "base_uri": "https://localhost:8080/"
        }
      },
      "outputs": [
        {
          "output_type": "stream",
          "name": "stdout",
          "text": [
            "Helsinki Harmaja\n"
          ]
        }
      ],
      "source": [
        "print(station_names[0])"
      ]
    },
    {
      "cell_type": "markdown",
      "metadata": {
        "id": "45yG957VsBea"
      },
      "source": [
        "OK, that makes sense, but it may take some getting used to..."
      ]
    },
    {
      "cell_type": "markdown",
      "metadata": {
        "id": "mzXaIVaKsBea"
      },
      "source": [
        "### A useful analog - Bill the vending machine\n",
        "\n",
        "As it turns out, index values are extremely useful, common in many programming languages, yet often a point of confusion for new programmers. Thus, we need to have a trick for remembering what an index value is and how they are used. For this, we need to be introduced to Bill.\n",
        "\n",
        "![Bill the vending machine](https://github.com/jeromemaiquez/geopython_notebooks/blob/master/L2/img/bill-the-vending-machine.png?raw=1)\n",
        "*Bill, the vending machine.*\n",
        "\n",
        "As you can see, Bill is a vending machine that contains 6 items. Like Python lists, the list of items available from Bill starts at 0 and increases in increments of 1.\n",
        "\n",
        "The way Bill works is that you insert your money, then select the location of the item you wish to receive. In an analogy to Python, we could say Bill is simply a list of food items and the buttons you push to get them are the index values. For example, if you would like to buy a taco from Bill, you would push button `3`. If we had a Python list called `Bill`, an equivalent operation could simply be\n",
        "\n",
        "```python\n",
        "print(Bill[3])\n",
        "Taco\n",
        "```"
      ]
    },
    {
      "cell_type": "markdown",
      "metadata": {
        "id": "hKOdKhVIsBeb"
      },
      "source": [
        "### Number of items in a list\n",
        "\n",
        "We can find the length of a list using the `len()` function. Use it below to check the length of the `station_names` list."
      ]
    },
    {
      "cell_type": "code",
      "execution_count": 6,
      "metadata": {
        "id": "_LZCzWQDsBeb",
        "outputId": "2169ee7a-5747-4e01-e42c-1d490a8ea091",
        "colab": {
          "base_uri": "https://localhost:8080/"
        }
      },
      "outputs": [
        {
          "output_type": "execute_result",
          "data": {
            "text/plain": [
              "4"
            ]
          },
          "metadata": {},
          "execution_count": 6
        }
      ],
      "source": [
        "len(station_names)"
      ]
    },
    {
      "cell_type": "markdown",
      "metadata": {
        "id": "QpsZNBt5sBeb"
      },
      "source": [
        "Just as expected, there are 4 values in our list and `len(station_names)` returns a value of `4`."
      ]
    },
    {
      "cell_type": "markdown",
      "metadata": {
        "id": "uPbwDXVcsBec"
      },
      "source": [
        "### Index value tips\n",
        "\n",
        "If we know the length of the list, we can now use it to find the value of the last item in the list, right? What happens if you print the value from the `station_names` list at index `4`, the value of the length of the list?"
      ]
    },
    {
      "cell_type": "code",
      "execution_count": 7,
      "metadata": {
        "tags": [
          "raises-exception"
        ],
        "id": "mmHdZfj6sBec",
        "outputId": "31354d25-3b77-463b-ace3-23067c51bdd4",
        "colab": {
          "base_uri": "https://localhost:8080/",
          "height": 175
        }
      },
      "outputs": [
        {
          "output_type": "error",
          "ename": "IndexError",
          "evalue": "ignored",
          "traceback": [
            "\u001b[0;31m---------------------------------------------------------------------------\u001b[0m",
            "\u001b[0;31mIndexError\u001b[0m                                Traceback (most recent call last)",
            "\u001b[0;32m<ipython-input-7-dc7905f18eab>\u001b[0m in \u001b[0;36m<cell line: 1>\u001b[0;34m()\u001b[0m\n\u001b[0;32m----> 1\u001b[0;31m \u001b[0mprint\u001b[0m\u001b[0;34m(\u001b[0m\u001b[0mstation_names\u001b[0m\u001b[0;34m[\u001b[0m\u001b[0;36m4\u001b[0m\u001b[0;34m]\u001b[0m\u001b[0;34m)\u001b[0m\u001b[0;34m\u001b[0m\u001b[0;34m\u001b[0m\u001b[0m\n\u001b[0m",
            "\u001b[0;31mIndexError\u001b[0m: list index out of range"
          ]
        }
      ],
      "source": [
        "print(station_names[4])"
      ]
    },
    {
      "cell_type": "markdown",
      "metadata": {
        "id": "14qCTUimsBec"
      },
      "source": [
        "An `IndexError`? That’s right, since our list starts with index `0` and has 4 values, the index of the last item in the list is `len(station_names) - 1`. That isn’t ideal, but fortunately there’s a nice trick in Python to find the last item in a list. Let's first print the `station_names` list to remind us of the values that are in it."
      ]
    },
    {
      "cell_type": "code",
      "execution_count": 8,
      "metadata": {
        "id": "reB3bPnosBed",
        "outputId": "a49d3c35-9471-4a57-d6aa-3d64cf5b18fc",
        "colab": {
          "base_uri": "https://localhost:8080/"
        }
      },
      "outputs": [
        {
          "output_type": "stream",
          "name": "stdout",
          "text": [
            "Helsinki Kumpula\n"
          ]
        }
      ],
      "source": [
        "print(station_names[-1])"
      ]
    },
    {
      "cell_type": "markdown",
      "metadata": {
        "id": "5fOsi0JGsBed"
      },
      "source": [
        "To find the value at the end of the list, we can print the value at index `-1`. To go further up the list in reverse, we can simply use larger negative numbers, such as index `-4`. Let's print out the values at these indices below."
      ]
    },
    {
      "cell_type": "code",
      "execution_count": 9,
      "metadata": {
        "id": "C52k41QJsBed",
        "outputId": "25835d3b-5c42-4638-acf2-7d412f922d7a",
        "colab": {
          "base_uri": "https://localhost:8080/"
        }
      },
      "outputs": [
        {
          "output_type": "stream",
          "name": "stdout",
          "text": [
            "Helsinki Harmaja\n"
          ]
        }
      ],
      "source": [
        "print(station_names[-4])"
      ]
    },
    {
      "cell_type": "code",
      "execution_count": 10,
      "metadata": {
        "id": "_0VMf1WBsBed",
        "outputId": "208f2610-bd44-4fbc-9f1c-a32ae0921f39",
        "colab": {
          "base_uri": "https://localhost:8080/"
        }
      },
      "outputs": [
        {
          "output_type": "stream",
          "name": "stdout",
          "text": [
            "Helsinki Kaisaniemi\n"
          ]
        }
      ],
      "source": [
        "print(station_names[-3])"
      ]
    },
    {
      "cell_type": "markdown",
      "metadata": {
        "id": "JGSNR_PRsBee"
      },
      "source": [
        "Yes, in Python you can go backwards through lists by using negative index values. Index `-1` gives the last value in the list and index `-len(station_names)` would give the first. Of course, you still need to keep the index values within their ranges. What happens if you check the value at index `-5`?"
      ]
    },
    {
      "cell_type": "code",
      "execution_count": 11,
      "metadata": {
        "tags": [
          "raises-exception"
        ],
        "id": "cglhO-VOsBee",
        "outputId": "e0f99fb3-f948-437d-cbe5-698acf36e349",
        "colab": {
          "base_uri": "https://localhost:8080/",
          "height": 175
        }
      },
      "outputs": [
        {
          "output_type": "error",
          "ename": "IndexError",
          "evalue": "ignored",
          "traceback": [
            "\u001b[0;31m---------------------------------------------------------------------------\u001b[0m",
            "\u001b[0;31mIndexError\u001b[0m                                Traceback (most recent call last)",
            "\u001b[0;32m<ipython-input-11-65170e33400a>\u001b[0m in \u001b[0;36m<cell line: 1>\u001b[0;34m()\u001b[0m\n\u001b[0;32m----> 1\u001b[0;31m \u001b[0mprint\u001b[0m\u001b[0;34m(\u001b[0m\u001b[0mstation_names\u001b[0m\u001b[0;34m[\u001b[0m\u001b[0;34m-\u001b[0m\u001b[0;36m5\u001b[0m\u001b[0;34m]\u001b[0m\u001b[0;34m)\u001b[0m\u001b[0;34m\u001b[0m\u001b[0;34m\u001b[0m\u001b[0m\n\u001b[0m",
            "\u001b[0;31mIndexError\u001b[0m: list index out of range"
          ]
        }
      ],
      "source": [
        "print(station_names[-5])"
      ]
    },
    {
      "cell_type": "markdown",
      "metadata": {
        "id": "1ZH9mVplsBee"
      },
      "source": [
        "**Poll pause - Question 2.2**\n",
        "\n",
        "Please visit the [class polling page](https://geo-python.github.io/poll) to participate (*only for those present during the lecture time*)."
      ]
    },
    {
      "cell_type": "markdown",
      "metadata": {
        "id": "m9tW0Lv5sBef"
      },
      "source": [
        "### Modifying list values\n",
        "\n",
        "Another nice feature of lists is that they are *mutable*, meaning that the values in a list that has been defined can be modified. Consider a list of the observation station types corresponding to the station names in the `station_names` list."
      ]
    },
    {
      "cell_type": "code",
      "execution_count": 12,
      "metadata": {
        "id": "nGTTqyFEsBef",
        "outputId": "b8edc423-55dd-4670-95a1-2dbbb6cb1f52",
        "colab": {
          "base_uri": "https://localhost:8080/"
        }
      },
      "outputs": [
        {
          "output_type": "stream",
          "name": "stdout",
          "text": [
            "['Weather stations', 'Weather stations', 'Weather stations', 'Weather stations']\n"
          ]
        }
      ],
      "source": [
        "station_types = [\n",
        "    \"Weather stations\",\n",
        "    \"Weather stations\",\n",
        "    \"Weather stations\",\n",
        "    \"Weather stations\",\n",
        "]\n",
        "print(station_types)"
      ]
    },
    {
      "cell_type": "markdown",
      "metadata": {
        "id": "BjBiYz_2sBef"
      },
      "source": [
        "Let's change the value for `station_types[2]` to be `\"Mareographs\"` and print out the `station_types` list again."
      ]
    },
    {
      "cell_type": "code",
      "execution_count": 13,
      "metadata": {
        "id": "g0v_7wa3sBeg",
        "outputId": "ccfb2a3b-eb59-4106-8389-09f43f617f00",
        "colab": {
          "base_uri": "https://localhost:8080/"
        }
      },
      "outputs": [
        {
          "output_type": "stream",
          "name": "stdout",
          "text": [
            "['Weather stations', 'Weather stations', 'Mareographs', 'Weather stations']\n"
          ]
        }
      ],
      "source": [
        "station_types[2] = 'Mareographs'\n",
        "print(station_types)"
      ]
    },
    {
      "cell_type": "markdown",
      "metadata": {
        "id": "lGMHOss2sBeg"
      },
      "source": [
        "### Data types in lists\n",
        "\n",
        "Lists can also store more than one type of data. Let’s consider that in addition to having a list of each station name, FMISID, latitude, etc. we would like to have a list of all of the values for station \"Helsinki Kaivopuisto\". Before we create this list we need to define a few values related to the Helsinki Kaivopuisto station."
      ]
    },
    {
      "cell_type": "code",
      "execution_count": 14,
      "metadata": {
        "id": "PLKgji4IsBeg"
      },
      "outputs": [],
      "source": [
        "station_name = \"Helsinki Kaivopuisto\""
      ]
    },
    {
      "cell_type": "code",
      "execution_count": 15,
      "metadata": {
        "id": "-qvOSPoLsBeg"
      },
      "outputs": [],
      "source": [
        "station_id = 132310"
      ]
    },
    {
      "cell_type": "code",
      "execution_count": 16,
      "metadata": {
        "id": "KVGx2SUBsBeh"
      },
      "outputs": [],
      "source": [
        "station_lat = 60.15"
      ]
    },
    {
      "cell_type": "code",
      "execution_count": 17,
      "metadata": {
        "id": "uoqnS1SqsBeh"
      },
      "outputs": [],
      "source": [
        "station_lon = 24.96"
      ]
    },
    {
      "cell_type": "code",
      "execution_count": 18,
      "metadata": {
        "id": "BUDjQeJesBeh"
      },
      "outputs": [],
      "source": [
        "station_type = \"Mareographs\""
      ]
    },
    {
      "cell_type": "markdown",
      "metadata": {
        "id": "d3ALngxpsBei"
      },
      "source": [
        "Now that we have defined some of the Helsinki Kaivopuisto variables we can create the Helsinki Kaivopuisto list."
      ]
    },
    {
      "cell_type": "code",
      "execution_count": 19,
      "metadata": {
        "id": "CIpldEngsBej",
        "outputId": "f01ccec6-f016-4ede-9bfa-cce65663fd5e",
        "colab": {
          "base_uri": "https://localhost:8080/"
        }
      },
      "outputs": [
        {
          "output_type": "stream",
          "name": "stdout",
          "text": [
            "['Helsinki Kaivopuisto', 132310, 60.15, 24.96, 'Mareographs']\n"
          ]
        }
      ],
      "source": [
        "station_hel_kaivo = [station_name, station_id, station_lat, station_lon, station_type]\n",
        "print(station_hel_kaivo)"
      ]
    },
    {
      "cell_type": "markdown",
      "metadata": {
        "id": "4imH6LR3sBej"
      },
      "source": [
        "Here we have one list with 3 different types of data in it. We can confirm this using the `type()` function. Let's check the type of `station_hel_kaivo`, then the types of the values at indices `0-2` in the cells below."
      ]
    },
    {
      "cell_type": "code",
      "execution_count": 20,
      "metadata": {
        "id": "imrPR5LJsBek",
        "outputId": "2931823d-6045-4ec1-c186-1a3d6baba42b",
        "colab": {
          "base_uri": "https://localhost:8080/"
        }
      },
      "outputs": [
        {
          "output_type": "execute_result",
          "data": {
            "text/plain": [
              "list"
            ]
          },
          "metadata": {},
          "execution_count": 20
        }
      ],
      "source": [
        "type(station_hel_kaivo)"
      ]
    },
    {
      "cell_type": "code",
      "execution_count": 21,
      "metadata": {
        "id": "47LDn3DgsBek",
        "outputId": "5abda2a2-7289-4476-bc5f-b5bf5b8b7dd8",
        "colab": {
          "base_uri": "https://localhost:8080/"
        }
      },
      "outputs": [
        {
          "output_type": "execute_result",
          "data": {
            "text/plain": [
              "str"
            ]
          },
          "metadata": {},
          "execution_count": 21
        }
      ],
      "source": [
        "type(station_hel_kaivo[0])"
      ]
    },
    {
      "cell_type": "code",
      "execution_count": 22,
      "metadata": {
        "id": "NWtXXdjysBek",
        "outputId": "1376e897-b894-4d76-d3a0-3a9f325428f4",
        "colab": {
          "base_uri": "https://localhost:8080/"
        }
      },
      "outputs": [
        {
          "output_type": "execute_result",
          "data": {
            "text/plain": [
              "int"
            ]
          },
          "metadata": {},
          "execution_count": 22
        }
      ],
      "source": [
        "type(station_hel_kaivo[1])"
      ]
    },
    {
      "cell_type": "code",
      "execution_count": 23,
      "metadata": {
        "id": "R8vAo1nusBek",
        "outputId": "5b969fa9-515a-47f4-e351-b624080384bc",
        "colab": {
          "base_uri": "https://localhost:8080/"
        }
      },
      "outputs": [
        {
          "output_type": "execute_result",
          "data": {
            "text/plain": [
              "float"
            ]
          },
          "metadata": {},
          "execution_count": 23
        }
      ],
      "source": [
        "type(station_hel_kaivo[2])"
      ]
    },
    {
      "cell_type": "markdown",
      "metadata": {
        "id": "TLTDCaISsBel"
      },
      "source": [
        "### Adding and removing values from lists\n",
        "\n",
        "Finally, we can add and remove values from lists to change their lengths. Let’s consider that we no longer want to include the first value in the `station_names` list. Since we haven't see that list in a bit, let's first print it to the screen."
      ]
    },
    {
      "cell_type": "code",
      "execution_count": 24,
      "metadata": {
        "id": "nHF6eRgxsBel",
        "colab": {
          "base_uri": "https://localhost:8080/"
        },
        "outputId": "0c6a8f60-dedb-4fc8-e79b-b8581a984816"
      },
      "outputs": [
        {
          "output_type": "stream",
          "name": "stdout",
          "text": [
            "['Helsinki Harmaja', 'Helsinki Kaisaniemi', 'Helsinki Kaivopuisto', 'Helsinki Kumpula']\n"
          ]
        }
      ],
      "source": [
        "print(station_names)"
      ]
    },
    {
      "cell_type": "markdown",
      "metadata": {
        "id": "pFTPu4rOsBel"
      },
      "source": [
        "The `del` statement allows values in lists to be removed. It can also be used to delete values from memory in Python. To remove the first value from the `station_names` list, we can simply type `del station_names[0]`. If you then print out the `station_names` list, you should see the first value has been removed."
      ]
    },
    {
      "cell_type": "code",
      "execution_count": 25,
      "metadata": {
        "id": "eUPlU3uysBem"
      },
      "outputs": [],
      "source": [
        "del station_names[0]"
      ]
    },
    {
      "cell_type": "code",
      "execution_count": 26,
      "metadata": {
        "id": "ZrdMrLtosBem",
        "colab": {
          "base_uri": "https://localhost:8080/"
        },
        "outputId": "fa3c52cc-404a-4e44-8bd1-dd6529f7933a"
      },
      "outputs": [
        {
          "output_type": "stream",
          "name": "stdout",
          "text": [
            "['Helsinki Kaisaniemi', 'Helsinki Kaivopuisto', 'Helsinki Kumpula']\n"
          ]
        }
      ],
      "source": [
        "print(station_names)"
      ]
    },
    {
      "cell_type": "markdown",
      "metadata": {
        "id": "sdvNZU0hsBem"
      },
      "source": [
        "**Note**: There are several ways to remove items from lists in Python. We have already seen how to use the `del` statement to remove items from a list by giving the list name and index of the value to remove, but there are two other common options you might like to know about. Let's consider both with an example list called `demo_list`.\n",
        "\n",
        "- `demo_list.remove(value)`: Will iterate over the list `demo_list` and remove the first item with a value equal to `value`\n",
        "- `demo_list.pop(index)`: Will remove the item at index `index` from the list `demo_list`\n",
        "\n",
        "If we would instead like to add a few stations to the `station_names` list, we can type `station_names.append(\"List item to add\")`, where `\"List item to add\"` would be the text that would be added to the list in this example. Let's add two values to our list in the cells below: `\"Helsinki lighthouse\"` and `\"Helsinki Malmi airfield\"`. After doing this, let's check the list contents by printing to the screen."
      ]
    },
    {
      "cell_type": "code",
      "execution_count": 27,
      "metadata": {
        "id": "tnYTLgflsBen"
      },
      "outputs": [],
      "source": [
        "station_names.append('Helsinki lighthouse')\n",
        "station_names.append('Helsinki Malmi airfield')"
      ]
    },
    {
      "cell_type": "code",
      "execution_count": 28,
      "metadata": {
        "id": "HuklByFVsBen",
        "colab": {
          "base_uri": "https://localhost:8080/"
        },
        "outputId": "000d0955-38d9-42af-8b3d-4240df76986f"
      },
      "outputs": [
        {
          "output_type": "stream",
          "name": "stdout",
          "text": [
            "['Helsinki Kaisaniemi', 'Helsinki Kaivopuisto', 'Helsinki Kumpula', 'Helsinki lighthouse', 'Helsinki Malmi airfield']\n"
          ]
        }
      ],
      "source": [
        "print(station_names)"
      ]
    },
    {
      "cell_type": "markdown",
      "metadata": {
        "id": "IFdTCBMnsBen"
      },
      "source": [
        "As you can see, we add values one at a time using `station_names.append()`. `list.append()` is called a method in Python, which is a function that works for a given data type (a list in this case). We’ll see some other examples of useful list methods below."
      ]
    },
    {
      "cell_type": "markdown",
      "metadata": {
        "id": "Ei6hG1izsBeo"
      },
      "source": [
        "### Appending to an integer? Not so fast...\n",
        "\n",
        "Let’s consider our list `station_names`. As we know, we already have data in the list `station_names`, and we can modify that data using built-in methods such as `station_names.append()`. In this case, the method `append()` is something that exists for lists, but not for other data types. It is intuitive that you might like to add (or append) things to a list, but perhaps it does not make sense to append to other data types. Below, let's create a variable `station_name_length` that we can use to store the length of the list `station_names`. We can then print the value of `station_name_length` to confirm the length is correct."
      ]
    },
    {
      "cell_type": "code",
      "execution_count": 29,
      "metadata": {
        "id": "XAymM4RpsBeo"
      },
      "outputs": [],
      "source": [
        "station_names_length = len(station_names)"
      ]
    },
    {
      "cell_type": "code",
      "execution_count": 30,
      "metadata": {
        "id": "vJ-Vq1VEsBep",
        "colab": {
          "base_uri": "https://localhost:8080/"
        },
        "outputId": "d2a19457-9813-46b2-9427-8bfa069bb2c5"
      },
      "outputs": [
        {
          "output_type": "stream",
          "name": "stdout",
          "text": [
            "5\n"
          ]
        }
      ],
      "source": [
        "print(station_names_length)"
      ]
    },
    {
      "cell_type": "markdown",
      "metadata": {
        "id": "Q9mnEWG_sBeq"
      },
      "source": [
        "If we check the data type of `station_name_length`, we can see it is an integer value, as expected (do that below). What happens if you try to append the value `1` to `station_name_length`?"
      ]
    },
    {
      "cell_type": "code",
      "execution_count": 31,
      "metadata": {
        "id": "dTniHezVsBeq",
        "colab": {
          "base_uri": "https://localhost:8080/"
        },
        "outputId": "91a5b4d5-7e09-437a-aa9c-3848c728e3fd"
      },
      "outputs": [
        {
          "output_type": "execute_result",
          "data": {
            "text/plain": [
              "int"
            ]
          },
          "metadata": {},
          "execution_count": 31
        }
      ],
      "source": [
        "type(station_names_length)"
      ]
    },
    {
      "cell_type": "code",
      "execution_count": 32,
      "metadata": {
        "tags": [
          "raises-exception"
        ],
        "id": "bey5QrlYsBer",
        "colab": {
          "base_uri": "https://localhost:8080/",
          "height": 175
        },
        "outputId": "8681e31e-4228-4b2a-d107-db7a82299d15"
      },
      "outputs": [
        {
          "output_type": "error",
          "ename": "AttributeError",
          "evalue": "ignored",
          "traceback": [
            "\u001b[0;31m---------------------------------------------------------------------------\u001b[0m",
            "\u001b[0;31mAttributeError\u001b[0m                            Traceback (most recent call last)",
            "\u001b[0;32m<ipython-input-32-866b1b672fe2>\u001b[0m in \u001b[0;36m<cell line: 1>\u001b[0;34m()\u001b[0m\n\u001b[0;32m----> 1\u001b[0;31m \u001b[0mstation_names_length\u001b[0m\u001b[0;34m.\u001b[0m\u001b[0mappend\u001b[0m\u001b[0;34m(\u001b[0m\u001b[0;36m1\u001b[0m\u001b[0;34m)\u001b[0m\u001b[0;34m\u001b[0m\u001b[0;34m\u001b[0m\u001b[0m\n\u001b[0m",
            "\u001b[0;31mAttributeError\u001b[0m: 'int' object has no attribute 'append'"
          ]
        }
      ],
      "source": [
        "station_names_length.append(1)"
      ]
    },
    {
      "cell_type": "markdown",
      "metadata": {
        "id": "l98kgSEqsBer"
      },
      "source": [
        "Here we get an `AttributeError` because there is no method built in to the `int` data type to append to `int` data. While `append()` makes sense for `list` data, it is not sensible for `int` data, which is the reason no such method exists for `int` data."
      ]
    },
    {
      "cell_type": "markdown",
      "metadata": {
        "id": "l5ldjAc6sBer"
      },
      "source": [
        "### Some other useful list methods\n",
        "\n",
        "With lists we can do a number of useful things, such as count the number of times a value occurs in a list or where it occurs. The `list.count()` method can be used to find the number of instances of an item in a list. For instance, we can check to see how many times `\"Helsinki Kumpula\"` occurs in our list `station_names` by typing `station_names.count(\"Helsinki Kumpula\")`."
      ]
    },
    {
      "cell_type": "code",
      "execution_count": 33,
      "metadata": {
        "id": "jX1gj1u4sBes",
        "colab": {
          "base_uri": "https://localhost:8080/"
        },
        "outputId": "3c5b20cf-b6e5-4809-ee83-6ccf4aa44989"
      },
      "outputs": [
        {
          "output_type": "execute_result",
          "data": {
            "text/plain": [
              "1"
            ]
          },
          "metadata": {},
          "execution_count": 33
        }
      ],
      "source": [
        "station_names.count('Helsinki Kumpula')"
      ]
    },
    {
      "cell_type": "markdown",
      "metadata": {
        "id": "yHl0CrqssBes"
      },
      "source": [
        "Similarly, we can use the `list.index()` method to find the index value of a given item in a list. Let's use the cell below to find the index of `\"Helsinki Kumpula\"` in the `station_names` list."
      ]
    },
    {
      "cell_type": "code",
      "execution_count": 34,
      "metadata": {
        "id": "qIOvCrHJsBet",
        "colab": {
          "base_uri": "https://localhost:8080/"
        },
        "outputId": "af627443-a63b-4ab2-a625-dae5f3063b25"
      },
      "outputs": [
        {
          "output_type": "execute_result",
          "data": {
            "text/plain": [
              "2"
            ]
          },
          "metadata": {},
          "execution_count": 34
        }
      ],
      "source": [
        "station_names.index('Helsinki Kumpula')"
      ]
    },
    {
      "cell_type": "markdown",
      "metadata": {
        "id": "tvLdgd6QsBet"
      },
      "source": [
        "The good news here is that our selected station name is only in the list once. Should we need to modify it for some reason, we also now know where it is in the list (index `2`).\n",
        "\n",
        "There are two other common methods for lists that we need to see."
      ]
    },
    {
      "cell_type": "markdown",
      "metadata": {
        "id": "RnKg_nTNsBet"
      },
      "source": [
        "### Reversing a list\n",
        "\n",
        "First, there is the `list.reverse()` method, used to reverse the order of items in a list. Let's reverse our `station_names` list below and then print the results."
      ]
    },
    {
      "cell_type": "code",
      "execution_count": 35,
      "metadata": {
        "id": "KwVreedRsBet"
      },
      "outputs": [],
      "source": [
        "station_names.reverse()"
      ]
    },
    {
      "cell_type": "code",
      "execution_count": 36,
      "metadata": {
        "id": "965gqF_hsBeu",
        "colab": {
          "base_uri": "https://localhost:8080/"
        },
        "outputId": "7eb7cfdb-14bc-4426-9480-296a4fbe261c"
      },
      "outputs": [
        {
          "output_type": "stream",
          "name": "stdout",
          "text": [
            "['Helsinki Malmi airfield', 'Helsinki lighthouse', 'Helsinki Kumpula', 'Helsinki Kaivopuisto', 'Helsinki Kaisaniemi']\n"
          ]
        }
      ],
      "source": [
        "print(station_names)"
      ]
    },
    {
      "cell_type": "markdown",
      "metadata": {
        "id": "oS1-sEPTsBeu"
      },
      "source": [
        "Yay, it works!"
      ]
    },
    {
      "cell_type": "markdown",
      "metadata": {
        "id": "yVA69jMhsBeu"
      },
      "source": [
        "**Caution**: A common mistake when reversing lists is to do something like `station_names = station_names.reverse()`. **Do not do this!** When reversing lists with `.reverse()` the `None` value is returned (this is why there is no screen ouput when running `station_names.reverse()`). If you then assign the output of `station_names.reverse()` to `station_names` you will reverse the list, but then overwrite its contents with the returned value `None`. This means you’ve deleted the contents of your list!."
      ]
    },
    {
      "cell_type": "markdown",
      "metadata": {
        "id": "IbxgurSlsBeu"
      },
      "source": [
        "### Sorting a list\n",
        "\n",
        "The `list.sort()` method works the same way. Let's sort our `station_names` list and print its contents below."
      ]
    },
    {
      "cell_type": "code",
      "execution_count": 37,
      "metadata": {
        "id": "wFBxjv56sBev"
      },
      "outputs": [],
      "source": [
        "station_names.sort()"
      ]
    },
    {
      "cell_type": "code",
      "execution_count": 38,
      "metadata": {
        "id": "nkopedx7sBev",
        "colab": {
          "base_uri": "https://localhost:8080/"
        },
        "outputId": "c3faef43-698c-43d7-88db-8d947c3a9cab"
      },
      "outputs": [
        {
          "output_type": "stream",
          "name": "stdout",
          "text": [
            "['Helsinki Kaisaniemi', 'Helsinki Kaivopuisto', 'Helsinki Kumpula', 'Helsinki Malmi airfield', 'Helsinki lighthouse']\n"
          ]
        }
      ],
      "source": [
        "print(station_names)"
      ]
    },
    {
      "cell_type": "markdown",
      "metadata": {
        "id": "DT1RIYFAsBev"
      },
      "source": [
        "As you can see, the list has been sorted alphabetically using the `list.sort()` method, but there is no screen output when this occurs. Again, if you were to assign that output to `station_names` the list would get sorted, but the contents would then be assigned `None`."
      ]
    },
    {
      "cell_type": "markdown",
      "metadata": {
        "id": "rHPYcez9sBev"
      },
      "source": [
        "**Note**: As you may have noticed, `\"Helsinki Malmi airfield\"` comes before `\"Helsinki lighthouse\"` in the sorted list. This is because alphabetical sorting in Python places capital letters before lowercase letters."
      ]
    },
    {
      "cell_type": "markdown",
      "metadata": {
        "id": "3YNYYGGUsBev"
      },
      "source": [
        "## Making different data types work together\n",
        "\n",
        "In the previous lesson we learned how to determine a variable's {term}`data type (tietotyyppi)` and also saw some examples of which data types are compatible with one another. We will continue that theme here and learn how to enable data of different types to work together."
      ]
    },
    {
      "cell_type": "markdown",
      "metadata": {
        "id": "eYB0LqZ1sBew"
      },
      "source": [
        "### Reminder: Data types and their compatibility\n",
        "\n",
        "We can explore the different types of data stored in variables using the `type()` function.\n",
        "Let's use the cells below to check the data types of the variables `station_name`, `station_id`, and `station_lat`."
      ]
    },
    {
      "cell_type": "code",
      "execution_count": 39,
      "metadata": {
        "id": "1fcEkw-YsBew",
        "colab": {
          "base_uri": "https://localhost:8080/"
        },
        "outputId": "5445d374-9422-4e1c-cd00-c5ca535da34f"
      },
      "outputs": [
        {
          "output_type": "execute_result",
          "data": {
            "text/plain": [
              "str"
            ]
          },
          "metadata": {},
          "execution_count": 39
        }
      ],
      "source": [
        "type(station_name)"
      ]
    },
    {
      "cell_type": "code",
      "execution_count": 40,
      "metadata": {
        "id": "TYuiG3uOsBew",
        "colab": {
          "base_uri": "https://localhost:8080/"
        },
        "outputId": "e5b604a7-e7ed-414e-d3f1-4661d8a2cbb4"
      },
      "outputs": [
        {
          "output_type": "execute_result",
          "data": {
            "text/plain": [
              "int"
            ]
          },
          "metadata": {},
          "execution_count": 40
        }
      ],
      "source": [
        "type(station_id)"
      ]
    },
    {
      "cell_type": "code",
      "execution_count": 41,
      "metadata": {
        "id": "cPUVPc3jsBew",
        "colab": {
          "base_uri": "https://localhost:8080/"
        },
        "outputId": "6a6fac95-6712-4c1f-9294-8314acf79c03"
      },
      "outputs": [
        {
          "output_type": "execute_result",
          "data": {
            "text/plain": [
              "float"
            ]
          },
          "metadata": {},
          "execution_count": 41
        }
      ],
      "source": [
        "type(station_lat)"
      ]
    },
    {
      "cell_type": "markdown",
      "metadata": {
        "id": "wFbie8CHsBew"
      },
      "source": [
        "As expected, we see that the `station_name` is a character string, the `station_id` is an integer, and the `station_lat` is a floating point number."
      ]
    },
    {
      "cell_type": "markdown",
      "metadata": {
        "id": "-E9XZbkosBew"
      },
      "source": [
        "**Hint**: Remember, the data types are important because some are not compatible with one another.\n",
        "\n",
        "What happens when you try to add the variables `station_name` and `station_id` in the cell below?"
      ]
    },
    {
      "cell_type": "code",
      "execution_count": 42,
      "metadata": {
        "tags": [
          "raises-exception"
        ],
        "id": "7HhCdzPPsBex",
        "colab": {
          "base_uri": "https://localhost:8080/",
          "height": 175
        },
        "outputId": "7dc38d57-c331-4535-9deb-4f7da8873cf3"
      },
      "outputs": [
        {
          "output_type": "error",
          "ename": "TypeError",
          "evalue": "ignored",
          "traceback": [
            "\u001b[0;31m---------------------------------------------------------------------------\u001b[0m",
            "\u001b[0;31mTypeError\u001b[0m                                 Traceback (most recent call last)",
            "\u001b[0;32m<ipython-input-42-351383cf58e2>\u001b[0m in \u001b[0;36m<cell line: 1>\u001b[0;34m()\u001b[0m\n\u001b[0;32m----> 1\u001b[0;31m \u001b[0mstation_name\u001b[0m \u001b[0;34m+\u001b[0m \u001b[0mstation_id\u001b[0m\u001b[0;34m\u001b[0m\u001b[0;34m\u001b[0m\u001b[0m\n\u001b[0m",
            "\u001b[0;31mTypeError\u001b[0m: can only concatenate str (not \"int\") to str"
          ]
        }
      ],
      "source": [
        "station_name + station_id"
      ]
    },
    {
      "cell_type": "markdown",
      "metadata": {
        "id": "4PRYhP1tsBex"
      },
      "source": [
        "Here we get a `TypeError` because Python does not know to combine a string of characters (`station_name`) with an integer value (`station_id`)."
      ]
    },
    {
      "cell_type": "markdown",
      "metadata": {
        "id": "39mFvRLnsBex"
      },
      "source": [
        "### Converting data from one type to another\n",
        "\n",
        "It is not the case that things like the `station_name` and `station_id` cannot be combined at all, but in order to combine a character string with a number we need to perform a *data type conversion* to make them compatible. Let's convert `station_id` to a character string using the `str()` function. We can store the converted variable as `station_id_str`."
      ]
    },
    {
      "cell_type": "code",
      "execution_count": 43,
      "metadata": {
        "id": "U2lh61VssBex"
      },
      "outputs": [],
      "source": [
        "station_id_str = str(station_id)"
      ]
    },
    {
      "cell_type": "markdown",
      "metadata": {
        "id": "r70eyDUCsBey"
      },
      "source": [
        "We can confirm the type has changed by checking the type of `station_id_str`, or by checking the output when you type the name of the variable into a cell and run it."
      ]
    },
    {
      "cell_type": "code",
      "execution_count": 44,
      "metadata": {
        "id": "fPdO6f9csBey",
        "colab": {
          "base_uri": "https://localhost:8080/"
        },
        "outputId": "6d6d6975-6f18-4a3f-88d8-7ae0640069c6"
      },
      "outputs": [
        {
          "output_type": "execute_result",
          "data": {
            "text/plain": [
              "str"
            ]
          },
          "metadata": {},
          "execution_count": 44
        }
      ],
      "source": [
        "type(station_id_str)"
      ]
    },
    {
      "cell_type": "code",
      "execution_count": 46,
      "metadata": {
        "id": "yL2Ghj2QsBey",
        "colab": {
          "base_uri": "https://localhost:8080/",
          "height": 35
        },
        "outputId": "7e441768-f936-48b8-bfc2-8954bd964eaa"
      },
      "outputs": [
        {
          "output_type": "execute_result",
          "data": {
            "text/plain": [
              "'132310'"
            ],
            "application/vnd.google.colaboratory.intrinsic+json": {
              "type": "string"
            }
          },
          "metadata": {},
          "execution_count": 46
        }
      ],
      "source": [
        "station_id_str"
      ]
    },
    {
      "cell_type": "markdown",
      "metadata": {
        "id": "oqlXElTasBey"
      },
      "source": [
        "Notice the number is now enclosed in quotation marks. As you can see, `str()` converts a numerical value into a character string with the same numbers as before."
      ]
    },
    {
      "cell_type": "markdown",
      "metadata": {
        "id": "jPF-dmN8sBey"
      },
      "source": [
        "**Note**: Similar to using `str()` to convert numbers to character strings, `int()` can be used to convert strings or floating point numbers to integers and `float()` can be used to convert strings or integers to floating point numbers."
      ]
    },
    {
      "cell_type": "markdown",
      "metadata": {
        "id": "vzm86Dt5sBey"
      },
      "source": [
        "**Poll pause - Questions 2.3, 2.4**\n",
        "\n",
        "Please visit the [class polling page](https://geo-python.github.io/poll) to participate (*only for those present during the lecture time*)."
      ]
    },
    {
      "cell_type": "markdown",
      "metadata": {
        "id": "4LI8jUoOsBez"
      },
      "source": [
        "### Combining text and numbers\n",
        "\n",
        "Although most mathematical operations operate on numerical values, a common way to combine character strings is using the addition operator `+`. Let's create a text string in the variable `station_name_and_id` that is the combination of the `station_name` and `station_id` variables. Once we define `station_name_and_id`, we can print it to the screen to see the result."
      ]
    },
    {
      "cell_type": "code",
      "execution_count": 47,
      "metadata": {
        "id": "gQMWgeJosBez"
      },
      "outputs": [],
      "source": [
        "station_name_and_id = station_name + ': ' + str(station_id)"
      ]
    },
    {
      "cell_type": "code",
      "execution_count": 48,
      "metadata": {
        "id": "DyhWBtXhsBez",
        "colab": {
          "base_uri": "https://localhost:8080/"
        },
        "outputId": "d24be841-123b-45a2-a5d5-3c3e409ea7d1"
      },
      "outputs": [
        {
          "output_type": "stream",
          "name": "stdout",
          "text": [
            "Helsinki Kaivopuisto: 132310\n"
          ]
        }
      ],
      "source": [
        "print(station_name_and_id)"
      ]
    },
    {
      "cell_type": "markdown",
      "metadata": {
        "id": "-dsKItpDsBez"
      },
      "source": [
        "Note that here we are converting `station_id` to a character string using the `str()` function within the assignment to the variable `station_name_and_id`. Alternatively, we could have simply added `station_name` and `station_id_str`."
      ]
    },
    {
      "cell_type": "markdown",
      "metadata": {
        "id": "stSFPjkysBe0"
      },
      "source": [
        "## Working with text (and numbers)\n",
        "\n",
        "The previous example demonstrated how it is possible to combine character strings and numbers (converted to character strings) together using the `+` operator. Although this approach works, it can become quite laborous and error-prone when working with more complicated sets of textual and/or numerical components. In addition, it is sometimes desirable to format the numerical output to change the number of decimal places for floating point values, for example. Hence, next we show a few useful techniques that make manipulating strings easier and more efficient.\n",
        "\n",
        "There are three approaches that can be used to manipulate strings in Python:\n",
        "\n",
        "1. f-strings\n",
        "2. the `.format()` method\n",
        "3. using the `%` operator\n",
        "\n",
        "The f-string approach is recommended and the most modern, introduced in Python 3.6. However, since you are likely to find examples of the older approaches we also show how they work."
      ]
    },
    {
      "cell_type": "markdown",
      "metadata": {
        "id": "1EYytz9BsBe0"
      },
      "source": [
        "### f-String formatting\n",
        "\n",
        "Here, we show how we can combine the `station_name` text, `station_id` integer number and another floating point number `temp` using Python's f-string formatting approach. In addition, we will simultaneously round the floating point number (`temp`) to two decimal places."
      ]
    },
    {
      "cell_type": "code",
      "execution_count": 50,
      "metadata": {
        "id": "g2UE65jBsBe0"
      },
      "outputs": [],
      "source": [
        "# An example temperature with many decimals\n",
        "temp = 18.56789876"
      ]
    },
    {
      "cell_type": "code",
      "execution_count": 61,
      "metadata": {
        "id": "dawze4W3sBe0"
      },
      "outputs": [],
      "source": [
        "# 1. The f-string approach (recommended)\n",
        "info_text = f\"The temperature at {station_name} station (ID: {station_id}) is {temp:.2f} degrees Celsius.\""
      ]
    },
    {
      "cell_type": "code",
      "execution_count": 62,
      "metadata": {
        "id": "knK0MvibsBe0",
        "colab": {
          "base_uri": "https://localhost:8080/",
          "height": 35
        },
        "outputId": "b9cf94f9-d6d3-4e51-ea3a-49a8970c26ec"
      },
      "outputs": [
        {
          "output_type": "execute_result",
          "data": {
            "text/plain": [
              "'The temperature at Helsinki Kaivopuisto station (ID: 132310) is 18.57 degrees Celsius.'"
            ],
            "application/vnd.google.colaboratory.intrinsic+json": {
              "type": "string"
            }
          },
          "metadata": {},
          "execution_count": 62
        }
      ],
      "source": [
        "info_text"
      ]
    },
    {
      "cell_type": "markdown",
      "metadata": {
        "id": "z3XFv1ogsBe1"
      },
      "source": [
        "So, here we have managed to combined three different data types and format the floating point value in a single line. Let's break the f-string down a bit to understand how it works.\n",
        "\n",
        "![F-string formatting explained](https://github.com/jeromemaiquez/geopython_notebooks/blob/master/L2/img/F-string-formatting.png?raw=1)\n",
        "*f-string formatting explained. Image from the [draft text of the Introduction to Python for Geographic Data Analysis textbook by Tenkanen et al.](https://python-gis-book.readthedocs.io/en/develop/part1/chapter-02/nb/00-python-basics.html#working-with-text-and-numbers).*\n",
        "\n",
        "The key components here are:\n",
        "\n",
        "- The text that you want to create and/or modify is enclosed within the quotes preceded with letter `f`.\n",
        "- You can include any existing variable in the text template by placing the name of the variable inside a set of curly braces `{}`.\n",
        "    - Using string formatting, it is also possible to insert numbers (such as `station_id` and `temp`) into the body of text without needing first to convert the data type to a string. This is because the f-string functionality does the data type conversion for us.\n",
        "- It is possible to round numbers on the fly to a specific precision, such as two decimal points as in our example by adding format specifier (`:.2f`) after the variable that we want to format.\n",
        "    - The format specifier works by first adding a colon (`:`) after the variable name\n",
        "    - The decimal precision can be specified by adding a dot (`.`) followed by a number that indicates the number of decimal places (two in our case)\n",
        "    - The final character `f` in the format specifier defines the type of the conversion that will be conducted\n",
        "        - `f` will convert the value to decimal number\n",
        "        - `e` will make the number appear in scientific notation\n",
        "        - `%` will convert the value to a percentage\n",
        "\n",
        "Of the above, the most important thing is to remember to include the `f` at the start of your f-strings :)."
      ]
    },
    {
      "cell_type": "markdown",
      "metadata": {
        "id": "yfqo3pWmsBe1"
      },
      "source": [
        "### Other approaches for string formatting (not recommended)\n",
        "\n",
        "As mentioned above, there are other approaches that can be used to format text and combine different data types. The first one is the `.format()` method. For example:"
      ]
    },
    {
      "cell_type": "code",
      "execution_count": 63,
      "metadata": {
        "id": "d7qU32RfsBe1",
        "colab": {
          "base_uri": "https://localhost:8080/"
        },
        "outputId": "f96ca5f7-d815-4efd-f7fd-91ed47fc3717"
      },
      "outputs": [
        {
          "output_type": "stream",
          "name": "stdout",
          "text": [
            "The temperature at Helsinki Kaivopuisto station (ID: 132310) is 18.57 Celsius.\n"
          ]
        }
      ],
      "source": [
        "# 2. .format() approach (no longer recommended)\n",
        "info_text2 = \"The temperature at {0} station (ID: {1}) is {2:.2f} Celsius.\".format(\n",
        "    station_name, station_id, temp\n",
        ")\n",
        "print(info_text2)"
      ]
    },
    {
      "cell_type": "markdown",
      "metadata": {
        "id": "0slRVygxsBe1"
      },
      "source": [
        "As you can see, here we get the same result as with f-strings using the `.format()` method, which is placed after the quotes. Placeholders are inserted inside curly braces where the numbers refer to the order of the variables listed in the `.format()` function. There are other ways to use this same approach, but the example above is typical.\n",
        "\n",
        "The last (historical) string formatting approach is to use the `%` operator. In this approach, the placeholder `%` is added within the quotes, and the variables that are inserted into the body of text are placed inside parentheses after another `%` operator, like this:"
      ]
    },
    {
      "cell_type": "code",
      "execution_count": null,
      "metadata": {
        "id": "R-ELK9N4sBe1"
      },
      "outputs": [],
      "source": [
        "# 3. % operator approach (no longer recommended)\n",
        "info_text3 = \"The temperature at %s station (ID: %s) is %.2f Celsius.\" % (\n",
        "    station_name,\n",
        "    station_id,\n",
        "    temp,\n",
        ")\n",
        "print(info_text3)"
      ]
    },
    {
      "cell_type": "markdown",
      "metadata": {
        "id": "9NDv9sZKsBe2"
      },
      "source": [
        "The order of the variables within the parentheses specify which `%` placeholder will receive what information and the number of variables should be exactly the same as the number of `%` placeholders within the text template."
      ]
    },
    {
      "cell_type": "markdown",
      "metadata": {
        "id": "rg4hJEvTsBe2"
      },
      "source": [
        "### More information about formatting text and numbers\n",
        "\n",
        "Of course, there is much more that can be done to format and interact with character strings and numbers. For more information, please have a look at the sites linked below.\n",
        "\n",
        "- [Common string manipulation techniques from *Introduction to Python for Geographic Data Analysis*](https://python-gis-book.readthedocs.io/en/develop/part1/chapter-02/nb/00-python-basics.html#common-string-manipulation-techniques)\n",
        "- [Python documentation: PEP 498 - Literal string interpolation](https://www.python.org/dev/peps/pep-0498/)"
      ]
    }
  ],
  "metadata": {
    "kernelspec": {
      "display_name": "Python 3 (ipykernel)",
      "language": "python",
      "name": "python3"
    },
    "language_info": {
      "codemirror_mode": {
        "name": "ipython",
        "version": 3
      },
      "file_extension": ".py",
      "mimetype": "text/x-python",
      "name": "python",
      "nbconvert_exporter": "python",
      "pygments_lexer": "ipython3",
      "version": "3.10.12"
    },
    "colab": {
      "provenance": [],
      "include_colab_link": true
    }
  },
  "nbformat": 4,
  "nbformat_minor": 0
}