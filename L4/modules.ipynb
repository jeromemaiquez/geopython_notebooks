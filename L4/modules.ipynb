{
 "cells": [
  {
   "cell_type": "markdown",
   "metadata": {},
   "source": [
    "# Loading and using modules\n",
    "\n",
    "Finnish university students are encouraged to use the CSC Notebooks platform.<br/>\n",
    "<a href=\"https://notebooks.csc.fi/\"><img alt=\"CSC badge\" src=\"https://img.shields.io/badge/launch-CSC%20notebook-blue.svg\" style=\"vertical-align:text-bottom\"></a>\n",
    "\n",
    "Others can follow the lesson and fill in their student notebooks using Binder.<br/>\n",
    "<a href=\"https://mybinder.org/v2/gh/geo-python/notebooks/master?urlpath=lab/tree/L4/modules.ipynb\"><img alt=\"Binder badge\" src=\"https://img.shields.io/badge/launch-binder-red.svg\" style=\"vertical-align:text-bottom\"></a>\n",
    "\n",
    "## Modules, packages and libraries?\n",
    "\n",
    "Python [module](https://docs.python.org/3/tutorial/modules.html#modules) refers to a piece of Python code that is designed to execute a spesific task. Technically, modules are simply Python script files (file extension`.py`) that contain function definitions and other statements. Python [packages](https://docs.python.org/3/tutorial/modules.html#packages) are a way of organizing modules into larger entities. \n",
    "\n",
    "Modules and packages are similar to what are more generally called libraries in programming languages, which again contain code related to a specific task such as mathematical operations.\n",
    "There are a *HUGE* number of Python modules/packages, and many of them greatly extend what can be done in a normal Python program.\n",
    "In fact, the abundance of free Python modules is one of the best reasons to learn and start using Python.\n",
    "\n",
    "**Note**: The words \"module\", \"package\" and \"library\" are often used interchangeably.\n",
    "\n",
    "## Loading modules\n",
    "\n",
    "Python modules can be loaded in a number of different ways.\n",
    "\n",
    "Let's start simple with the math module.\n",
    "Here, we’ll load the math module using the `import` statement and try out some of the functions in the module, such as the square root function `sqrt`."
   ]
  },
  {
   "cell_type": "code",
   "execution_count": 1,
   "metadata": {},
   "outputs": [],
   "source": [
    "import math"
   ]
  },
  {
   "cell_type": "code",
   "execution_count": 2,
   "metadata": {},
   "outputs": [
    {
     "data": {
      "text/plain": [
       "9.0"
      ]
     },
     "execution_count": 2,
     "metadata": {},
     "output_type": "execute_result"
    }
   ],
   "source": [
    "math.sqrt(81)"
   ]
  },
  {
   "cell_type": "markdown",
   "metadata": {},
   "source": [
    "Here we have loaded the math module by typing `import math`, which tells Python to read in the functions in the math module and make them available for use.\n",
    "In our example, we see that we can use a function within the math library by typing the name of the module first, a period, and then the name of function we would like to use afterward (e.g., `math.sqrt()`)."
   ]
  },
  {
   "cell_type": "markdown",
   "metadata": {},
   "source": [
    "### Built-in functions\n",
    "\n",
    "[Built-in functions](https://docs.python.org/3/library/functions.html) such as `print()` are always available without importing anything:"
   ]
  },
  {
   "cell_type": "code",
   "execution_count": 3,
   "metadata": {},
   "outputs": [
    {
     "name": "stdout",
     "output_type": "stream",
     "text": [
      "Hello world!\n"
     ]
    }
   ],
   "source": [
    "print(\"Hello world!\")"
   ]
  },
  {
   "cell_type": "markdown",
   "metadata": {},
   "source": [
    "Technically, the built-in functions belong to a module called `builtins`."
   ]
  },
  {
   "cell_type": "markdown",
   "metadata": {},
   "source": [
    "### Renaming imported modules\n",
    "\n",
    "We can also rename modules when they are imported.\n",
    "This can be helpful when using modules with longer names.\n",
    "Let's import the `math` module but rename it to `m` using the format `import module as name`.\n",
    "Then we can using the `sqrt` function from the math library and check the type of our module named `m`."
   ]
  },
  {
   "cell_type": "code",
   "execution_count": 4,
   "metadata": {},
   "outputs": [],
   "source": [
    "import math as m"
   ]
  },
  {
   "cell_type": "code",
   "execution_count": 6,
   "metadata": {},
   "outputs": [
    {
     "data": {
      "text/plain": [
       "7.0"
      ]
     },
     "execution_count": 6,
     "metadata": {},
     "output_type": "execute_result"
    }
   ],
   "source": [
    "m.sqrt(49)"
   ]
  },
  {
   "cell_type": "code",
   "execution_count": 7,
   "metadata": {},
   "outputs": [
    {
     "data": {
      "text/plain": [
       "module"
      ]
     },
     "execution_count": 7,
     "metadata": {},
     "output_type": "execute_result"
    }
   ],
   "source": [
    "type(m)"
   ]
  },
  {
   "cell_type": "markdown",
   "metadata": {},
   "source": [
    "Here, we imported the `math` module to be usable with the name `m` instead of `math`. We will see other examples later in the course where using an alternate name is rather useful. For example, next week we will start using the `pandas` library for data analysis. It is customary to import pandas as `pd`:"
   ]
  },
  {
   "cell_type": "code",
   "execution_count": 1,
   "metadata": {},
   "outputs": [],
   "source": [
    "import pandas as pd"
   ]
  },
  {
   "cell_type": "markdown",
   "metadata": {},
   "source": [
    "### Importing a single function\n",
    "\n",
    "It is also possible to import only a single function from a module, rather than the entire module.\n",
    "This is sometimes useful when needing only a small piece of a large module.\n",
    "We can do this using the form `from module import function`.\n",
    "Let's import the `sqrt` function from the `math` module using this form.\n",
    "Again, we can test using our resulting function afterward."
   ]
  },
  {
   "cell_type": "code",
   "execution_count": 9,
   "metadata": {},
   "outputs": [],
   "source": [
    "from math import sqrt"
   ]
  },
  {
   "cell_type": "code",
   "execution_count": 10,
   "metadata": {},
   "outputs": [
    {
     "data": {
      "text/plain": [
       "11.0"
      ]
     },
     "execution_count": 10,
     "metadata": {},
     "output_type": "execute_result"
    }
   ],
   "source": [
    "sqrt(121)"
   ]
  },
  {
   "cell_type": "markdown",
   "metadata": {},
   "source": [
    "Though this can be useful, it has the drawback that **the imported function could conflict with other built-in or imported function names**, and you lose the information about which module contains the imported function.\n",
    "You should only do this when you truly need to.\n",
    "\n",
    "### Importing a submodule\n",
    "\n",
    "Some modules have submodules that can also be imported without importing the entire module.\n",
    "We may see examples of this later when making data plots using the pyplot sub-module of the [Matplotlib module](http://matplotlib.org/).\n",
    "In case you're curious, here is an example."
   ]
  },
  {
   "cell_type": "code",
   "execution_count": 2,
   "metadata": {},
   "outputs": [],
   "source": [
    "import matplotlib.pyplot as plt"
   ]
  },
  {
   "cell_type": "code",
   "execution_count": 3,
   "metadata": {},
   "outputs": [
    {
     "data": {
      "text/plain": [
       "[<matplotlib.lines.Line2D at 0x27eb6aa1340>]"
      ]
     },
     "execution_count": 3,
     "metadata": {},
     "output_type": "execute_result"
    },
    {
     "data": {
      "image/png": "[encoded data removed]",
      "text/plain": [
       "<Figure size 640x480 with 1 Axes>"
      ]
     },
     "metadata": {},
     "output_type": "display_data"
    }
   ],
   "source": [
    "# Plot a simple x y line graph with default settings\n",
    "plt.plot([1, 2, 3, 4, 5], [5, 4, 3, 2, 1])"
   ]
  },
  {
   "cell_type": "markdown",
   "metadata": {},
   "source": [
    "You can read more about the plotting function in [matplotlib pyplot documentation](https://matplotlib.org/api/_as_gen/matplotlib.pyplot.plot.html). We will introduce matplotlib in detail during week 7."
   ]
  },
  {
   "cell_type": "markdown",
   "metadata": {},
   "source": [
    "## Using module functions\n",
    "\n",
    "As we see above, the easiest way to use a module is to import it an then use its functions by typing `modulename.functionname()` and providing the necessary arguments.\n",
    "Yes, it is that simple.\n",
    "\n",
    "However, there are times you may not know the names of all of the functions in a given module, or which are part of a module.\n",
    "You can view the list of functions that are part of a module by using the `dir()` function."
   ]
  },
  {
   "cell_type": "code",
   "execution_count": 13,
   "metadata": {},
   "outputs": [
    {
     "name": "stdout",
     "output_type": "stream",
     "text": [
      "['__doc__', '__loader__', '__name__', '__package__', '__spec__', 'acos', 'acosh', 'asin', 'asinh', 'atan', 'atan2', 'atanh', 'cbrt', 'ceil', 'comb', 'copysign', 'cos', 'cosh', 'degrees', 'dist', 'e', 'erf', 'erfc', 'exp', 'exp2', 'expm1', 'fabs', 'factorial', 'floor', 'fmod', 'frexp', 'fsum', 'gamma', 'gcd', 'hypot', 'inf', 'isclose', 'isfinite', 'isinf', 'isnan', 'isqrt', 'lcm', 'ldexp', 'lgamma', 'log', 'log10', 'log1p', 'log2', 'modf', 'nan', 'nextafter', 'perm', 'pi', 'pow', 'prod', 'radians', 'remainder', 'sin', 'sinh', 'sqrt', 'tan', 'tanh', 'tau', 'trunc', 'ulp']\n"
     ]
    }
   ],
   "source": [
    "print(dir(math))"
   ]
  },
  {
   "cell_type": "markdown",
   "metadata": {},
   "source": [
    "You can also browse the available modules by typing in modulename. and then pressing the tab-key:\n",
    "\n",
    "![view module keys img](img/view_module_functions.png)"
   ]
  },
  {
   "cell_type": "markdown",
   "metadata": {},
   "source": [
    "So that's helpful, but what about when you don't know what a given function does?\n",
    "The easiest solution is to use the `help()` function (after importing the module).\n",
    "Let's check the help for the `math.sin` function."
   ]
  },
  {
   "cell_type": "code",
   "execution_count": 14,
   "metadata": {},
   "outputs": [
    {
     "name": "stdout",
     "output_type": "stream",
     "text": [
      "Help on built-in function sin in module math:\n",
      "\n",
      "sin(x, /)\n",
      "    Return the sine of x (measured in radians).\n",
      "\n"
     ]
    }
   ],
   "source": [
    "help(math.sin)"
   ]
  },
  {
   "cell_type": "markdown",
   "metadata": {},
   "source": [
    "## What should I not do?\n",
    "\n",
    "Here are a few things to avoid.\n",
    "\n",
    "### from X import *\n",
    "\n",
    "Don't use `from X import *`.\n",
    "This may be easier to understand by way of an example, but assuming `X` above is a Python module, `from X import *` will import all of the functions in module X.\n",
    "Though you might think this is helpful, it is much better to simply `import X` or `import X as Y` to keep the connection between the functions and their module.\n",
    "It is also much more likely you will encounter conflicting names when using `from X import *`.\n",
    "\n",
    "### Poor names when renaming on import\n",
    "\n",
    "Don't use confusing names when renaming on import.\n",
    "Be smart when you import modules, and follow generally used conventions (`import pandas as pd` is a good way to do things!).\n",
    "If you want to make the module name shorter on import, pick a reasonable abbreviation.\n",
    "For instance, `import matplotlib as m` could be confusing, especially if you're also using `import math as m` in other Jupyter notebooks or script files.\n",
    "Similarly, `import matplotlib as math` is perfectly OK syntax in Python, but bound to cause a world of trouble.\n",
    "Remember, people need to be able to read and understand the code you write, keep it simple and logical."
   ]
  },
  {
   "cell_type": "markdown",
   "metadata": {},
   "source": [
    "#### What does PEP 8 say about imports?\n",
    "\n",
    "According to good coding practices described in <a href=\"https://www.python.org/dev/peps/pep-0008/#imports\">PEP 8</a>, we should always import modules at the top of the file. In this lesson, we are demonstrating how to import different modules along the way, but in general it would be better to import requried modules as the very first thing. PEP 8 refers more to traditional script files, but we can apply the guideline to Jupyter Notebook files by placing our imports the first code cell in the Jupyter Notebook."
   ]
  },
  {
   "cell_type": "markdown",
   "metadata": {},
   "source": [
    "## Installing packages\n",
    "\n",
    "For those using their own computers, we recommend using the [Mamba](https://mamba.readthedocs.io/en/latest/index.html) package management system. Using Mamba, you can list installed package names and versions using the `mamba list` command. You can read more about installing Python and Mamba for the purposes of this course on the [Installing Python page](https://geo-python-site.readthedocs.io/en/latest/course-info/installing-miniconda.html).\n",
    "    \n",
    "It's also good to be aware of [pip](https://pypi.org/project/pip/), the package installer for python. Pip and Mamba are often used for similar purposes, but the key difference is that pip is used for installing packages written in Python, while Mamba handles packages that might also contain code written in other languages. Generally, we encourage you to use Mamba when installing packages (and within Mamba, prefer for you to use the same channel for installations). However, sometimes you might need a package that is not available via Mamba, but can be installed with pip.\n",
    "\n",
    "#### Checking all available modules in a Jupyter Notebook\n",
    "In a Jupyter Notebook, you can type in `help(\"modules\")` to check the complete list of installed packages in Python. However, the output is a bit clumsy and hard to read..."
   ]
  },
  {
   "cell_type": "code",
   "execution_count": 15,
   "metadata": {},
   "outputs": [
    {
     "name": "stdout",
     "output_type": "stream",
     "text": [
      "\n",
      "Please wait a moment while I gather a list of all available modules...\n",
      "\n"
     ]
    },
    {
     "name": "stderr",
     "output_type": "stream",
     "text": [
      "c:\\Users\\Kurt\\miniconda3\\Lib\\site-packages\\_distutils_hack\\__init__.py:33: UserWarning: Setuptools is replacing distutils.\n",
      "  warnings.warn(\"Setuptools is replacing distutils.\")\n",
      "c:\\Users\\Kurt\\miniconda3\\Lib\\site-packages\\tqdm\\auto.py:21: TqdmWarning: IProgress not found. Please update jupyter and ipywidgets. See https://ipywidgets.readthedocs.io/en/stable/user_install.html\n",
      "  from .autonotebook import tqdm as notebook_tqdm\n"
     ]
    },
    {
     "name": "stdout",
     "output_type": "stream",
     "text": [
      "IPython             bdb                 mailbox             sys\n",
      "OpenSSL             binascii            mailcap             sysconfig\n",
      "__future__          bisect              marshal             tabnanny\n",
      "__hello__           boltons             math                tarfile\n",
      "__phello__          brotli              matplotlib_inline   telnetlib\n",
      "_abc                builtins            menuinst            temp_converter\n",
      "_aix_support        bz2                 mimetypes           tempfile\n",
      "_ast                cProfile            mmap                test\n",
      "_asyncio            calendar            mmapfile            test_pycosat\n",
      "_bisect             certifi             mmsystem            textwrap\n",
      "_blake2             cffi                modulefinder        this\n",
      "_bootsubprocess     cgi                 msilib              threading\n",
      "_bz2                cgitb               msvcrt              time\n",
      "_cffi_backend       charset_normalizer  multiprocessing     timeit\n",
      "_codecs             chunk               nest_asyncio        timer\n",
      "_codecs_cn          cmath               netbios             tkinter\n",
      "_codecs_hk          cmd                 netrc               token\n",
      "_codecs_iso2022     code                nntplib             tokenize\n",
      "_codecs_jp          codecs              nt                  tomllib\n",
      "_codecs_kr          codeop              ntpath              tornado\n",
      "_codecs_tw          collections         ntsecuritycon       tqdm\n",
      "_collections        colorama            nturl2path          trace\n",
      "_collections_abc    colorsys            numbers             traceback\n",
      "_compat_pickle      comm                odbc                tracemalloc\n",
      "_compression        commctrl            opcode              traitlets\n",
      "_contextvars        compileall          operator            truststore\n",
      "_csv                concurrent          optparse            tty\n",
      "_ctypes             conda               os                  turtle\n",
      "_ctypes_test        conda_content_trust packaging           turtledemo\n",
      "_datetime           conda_env           parso               types\n",
      "_decimal            conda_libmamba_solver pathlib             typing\n",
      "_distutils_hack     conda_package_handling pdb                 typing_extensions\n",
      "_elementtree        conda_package_streaming perfmon             unicodedata\n",
      "_functools          configparser        pickle              unittest\n",
      "_hashlib            contextlib          pickleshare         urllib\n",
      "_heapq              contextvars         pickletools         urllib3\n",
      "_imp                copy                pip                 uu\n",
      "_io                 copyreg             pipes               uuid\n",
      "_json               crypt               pkg_resources       venv\n",
      "_locale             cryptography        pkgutil             warnings\n",
      "_lsprof             csv                 platform            wave\n",
      "_lzma               ctypes              platformdirs        wcwidth\n",
      "_markupbase         curses              plistlib            weakref\n",
      "_md5                cwp                 pluggy              webbrowser\n",
      "_msi                dataclasses         poplib              wheel\n",
      "_multibytecodec     datetime            posixpath           win2kras\n",
      "_multiprocessing    dateutil            pprint              win32api\n",
      "_nsis               dbi                 profile             win32clipboard\n",
      "_opcode             dbm                 prompt_toolkit      win32com\n",
      "_operator           dde                 pstats              win32con\n",
      "_osx_support        debugpy             psutil              win32console\n",
      "_overlapped         decimal             pty                 win32cred\n",
      "_pickle             decorator           pure_eval           win32crypt\n",
      "_py_abc             difflib             py_compile          win32cryptcon\n",
      "_pydecimal          dis                 pyclbr              win32event\n",
      "_pyio               distutils           pycosat             win32evtlog\n",
      "_queue              doctest             pycparser           win32evtlogutil\n",
      "_random             email               pydoc               win32file\n",
      "_sha1               encodings           pydoc_data          win32gui\n",
      "_sha256             ensurepip           pyexpat             win32gui_struct\n",
      "_sha3               enum                pygments            win32help\n",
      "_sha512             errno               pythoncom           win32inet\n",
      "_signal             exceptiongroup      pywin               win32inetcon\n",
      "_sitebuiltins       executing           pywin32_bootstrap   win32job\n",
      "_socket             faulthandler        pywin32_testutil    win32lz\n",
      "_sqlite3            filecmp             pywintypes          win32net\n",
      "_sre                fileinput           queue               win32netcon\n",
      "_ssl                fnmatch             quopri              win32pdh\n",
      "_stat               fractions           random              win32pdhquery\n",
      "_statistics         ftplib              rasutil             win32pdhutil\n",
      "_string             functools           re                  win32pipe\n",
      "_strptime           gc                  regcheck            win32print\n",
      "_struct             genericpath         regutil             win32process\n",
      "_symtable           getopt              reprlib             win32profile\n",
      "_system_path        getpass             requests            win32ras\n",
      "_testbuffer         gettext             rlcompleter         win32rcparser\n",
      "_testcapi           glob                runpy               win32security\n",
      "_testconsole        graphlib            sched               win32service\n",
      "_testimportmultiple gzip                secrets             win32serviceutil\n",
      "_testinternalcapi   hashlib             select              win32timezone\n",
      "_testmultiphase     heapq               selectors           win32trace\n",
      "_thread             hmac                servicemanager      win32traceutil\n",
      "_threading_local    html                setuptools          win32transaction\n",
      "_tkinter            http                shelve              win32ts\n",
      "_tokenize           idlelib             shlex               win32ui\n",
      "_tracemalloc        idna                shutil              win32uiole\n",
      "_typing             imaplib             signal              win32verstamp\n",
      "_uuid               imghdr              site                win32wnet\n",
      "_warnings           imp                 six                 win_inet_pton\n",
      "_weakref            importlib           smtpd               winerror\n",
      "_weakrefset         importlib_metadata  smtplib             winioctlcon\n",
      "_win32sysloader     inspect             sndhdr              winnt\n",
      "_winapi             io                  socket              winperf\n",
      "_winxptheme         ipaddress           socketserver        winreg\n",
      "_xxsubinterpreters  ipykernel           socks               winsound\n",
      "_zoneinfo           ipykernel_launcher  sockshandler        winxpgui\n",
      "abc                 isapi               sqlite3             winxptheme\n",
      "adodbapi            itertools           sre_compile         wsgiref\n",
      "afxres              jedi                sre_constants       xdrlib\n",
      "aifc                json                sre_parse           xml\n",
      "antigravity         jsonpatch           ssl                 xmlrpc\n",
      "argparse            jsonpointer         sspi                xxlimited\n",
      "array               jupyter             sspicon             xxlimited_35\n",
      "ast                 jupyter_client      stack_data          xxsubtype\n",
      "asttokens           jupyter_core        stat                zipapp\n",
      "asynchat            keyword             statistics          zipfile\n",
      "asyncio             lib2to3             string              zipimport\n",
      "asyncore            libmambapy          stringprep          zipp\n",
      "atexit              linecache           struct              zlib\n",
      "audioop             locale              subprocess          zmq\n",
      "backports           logging             sunau               zoneinfo\n",
      "base64              lzma                symtable            zstandard\n",
      "\n",
      "Enter any module name to get more help.  Or, type \"modules spam\" to search\n",
      "for modules whose name or summary contain the string \"spam\".\n",
      "\n"
     ]
    }
   ],
   "source": [
    "# List all available modules. Note: when running this command, you might first get several warnings related to deprecated packages etc.\n",
    "help(\"modules\")"
   ]
  }
 ],
 "metadata": {
  "kernelspec": {
   "display_name": "Python 3 (ipykernel)",
   "language": "python",
   "name": "python3"
  },
  "language_info": {
   "codemirror_mode": {
    "name": "ipython",
    "version": 3
   },
   "file_extension": ".py",
   "mimetype": "text/x-python",
   "name": "python",
   "nbconvert_exporter": "python",
   "pygments_lexer": "ipython3",
   "version": "3.12.0"
  }
 },
 "nbformat": 4,
 "nbformat_minor": 4
}
